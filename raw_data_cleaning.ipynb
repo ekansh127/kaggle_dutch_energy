{
 "cells": [
  {
   "cell_type": "code",
   "execution_count": 2,
   "metadata": {},
   "outputs": [],
   "source": [
    "import pandas as pd\n",
    "import numpy as np\n",
    "\n",
    "from os.path import join, isfile\n",
    "from os import path, scandir, listdir"
   ]
  },
  {
   "cell_type": "code",
   "execution_count": 3,
   "metadata": {},
   "outputs": [],
   "source": [
    "def list_all_files(location='../input/', pattern=None, recursive=True):\n",
    "    \"\"\"\n",
    "    This function returns a list of files at a given location (including subfolders)\n",
    "    \n",
    "    - location: path to the directory to be searched\n",
    "    - pattern: part of the file name to be searched (ex. pattern='.csv' would return all the csv files)\n",
    "    - recursive: boolean, if True the function calls itself for every subdirectory it finds\n",
    "    \"\"\"\n",
    "    subdirectories= [f.path for f in scandir(location) if f.is_dir()]\n",
    "    files = [join(location, f) for f in listdir(location) if isfile(join(location, f))]\n",
    "    if recursive:\n",
    "        for directory in subdirectories:\n",
    "            files.extend(list_all_files(directory))\n",
    "    if pattern:\n",
    "        files = [f for f in files if pattern in f]\n",
    "    return files"
   ]
  },
  {
   "cell_type": "markdown",
   "metadata": {},
   "source": [
    "# Enexis"
   ]
  },
  {
   "cell_type": "code",
   "execution_count": 4,
   "metadata": {},
   "outputs": [
    {
     "data": {
      "text/plain": [
       "['raw_data/Enexis_kleinverbruiksgegevens_01012013.csv',\n",
       " 'raw_data/Enexis_kleinverbruiksgegevens_01012016.csv',\n",
       " 'raw_data/Enexis_kleinverbruiksgegevens_01012018.csv',\n",
       " 'raw_data/Enexis_kleinverbruiksgegevens_01012015.csv',\n",
       " 'raw_data/Enexis_kleinverbruiksgegevens_01012012.csv',\n",
       " 'raw_data/Enexis_kleinverbruiksgegevens_01012017.csv',\n",
       " 'raw_data/Enexis_kleinverbruiksgegevens_01012011.csv',\n",
       " 'raw_data/Enexis_kleinverbruiksgegevens_01012010.csv',\n",
       " 'raw_data/Enexis_kleinverbruiksgegevens_01012014.csv']"
      ]
     },
     "execution_count": 4,
     "metadata": {},
     "output_type": "execute_result"
    }
   ],
   "source": [
    "enexis = list_all_files('raw_data/', pattern='Enexis')\n",
    "enexis"
   ]
  },
  {
   "cell_type": "code",
   "execution_count": 15,
   "metadata": {},
   "outputs": [],
   "source": [
    "renaming = {'NETBEHEERDER' : 'net_manager', 'NETGEBIED': 'purchase_area', \n",
    "            'LEVERINGSRICHTING_PERC': 'delivery_perc', \n",
    "            'AANSLUITINGEN_AANTAL': 'num_connections', \n",
    "           'SOORT_AANSLUITING_PERC': 'type_conn_perc', 'SJV_GEMIDDELD' : 'annual_consume',\n",
    "           'SJV_LAAG_TARIEF_PERC' : 'annual_consume_lowtarif_perc',\n",
    "           'SLIMME_METER_PERC' : 'smartmeter_perc',\n",
    "           'STRAATNAAM': \"street\",\n",
    "           'POSTCODE_VAN': 'zipcode_from',\n",
    "           'POSTCODE_TOT': 'zipcode_to',\n",
    "           'WOONPLAATS': 'city',\n",
    "           'PRODUCTSOORT': 'type_of_product',\n",
    "           'SOORT_AANSLUITING': 'type_of_connection',\n",
    "           'FYSIEKE_STATUS_PERC': 'perc_of_active_connections'}"
   ]
  },
  {
   "cell_type": "code",
   "execution_count": 16,
   "metadata": {
    "scrolled": false
   },
   "outputs": [
    {
     "name": "stdout",
     "output_type": "stream",
     "text": [
      "01012013.csv\n",
      "Can only use .str accessor with string values, which use np.object_ dtype in pandas\n",
      "(113248, 14)\n",
      "(94423, 14)\n",
      "01012016.csv\n",
      "Can only use .str accessor with string values, which use np.object_ dtype in pandas\n",
      "(110577, 14)\n",
      "(84429, 14)\n",
      "01012018.csv\n",
      "Can only use .str accessor with string values, which use np.object_ dtype in pandas\n",
      "(124163, 14)\n",
      "(110407, 14)\n",
      "01012015.csv\n",
      "Can only use .str accessor with string values, which use np.object_ dtype in pandas\n",
      "(113989, 14)\n",
      "(94945, 14)\n",
      "01012012.csv\n",
      "Can only use .str accessor with string values, which use np.object_ dtype in pandas\n",
      "(109808, 14)\n",
      "(91509, 14)\n",
      "01012017.csv\n",
      "Can only use .str accessor with string values, which use np.object_ dtype in pandas\n",
      "(115576, 14)\n",
      "(102661, 14)\n",
      "01012011.csv\n",
      "Can only use .str accessor with string values, which use np.object_ dtype in pandas\n",
      "(108299, 14)\n",
      "(83518, 14)\n",
      "01012010.csv\n",
      "Can only use .str accessor with string values, which use np.object_ dtype in pandas\n",
      "(107512, 14)\n",
      "(82966, 14)\n",
      "01012014.csv\n",
      "Can only use .str accessor with string values, which use np.object_ dtype in pandas\n",
      "(113644, 14)\n",
      "(94689, 14)\n"
     ]
    }
   ],
   "source": [
    "for file in enexis:\n",
    "    yr = file.split('_')[-1]\n",
    "    print(yr)\n",
    "    if '2017' in file:\n",
    "        df = pd.read_csv(file, encoding = \"ISO-8859-1\", sep = \";\", thousands='.')\n",
    "    else:\n",
    "        df = pd.read_csv(file, encoding = \"ISO-8859-1\", sep = \";\")\n",
    "    \n",
    "    try:\n",
    "        df['SJV_GEMIDDELD'] = df['SJV_GEMIDDELD'].str.replace(\",\", \".\")\n",
    "        df['LEVERINGSRICHTING_PERC'] = df['LEVERINGSRICHTING_PERC'].str.replace(\",\", \".\")\n",
    "        df['FYSIEKE_STATUS_PERC'] = df['FYSIEKE_STATUS_PERC'].str.replace(\",\", \".\")\n",
    "        df['SJV_LAAG_TARIEF_PERC'] = df['SJV_LAAG_TARIEF_PERC'].str.replace(\",\", \".\")\n",
    "        df['SLIMME_METER_PERC'] = df['SLIMME_METER_PERC'].str.replace(\",\", \".\")\n",
    "    except AttributeError as e: # some of them are already numeric\n",
    "        print(e)\n",
    "        pass\n",
    "    \n",
    "    if '2018' in file:\n",
    "        df['SJV_GEMIDDELD'] = df['SJV_GEMIDDELD'].str.replace(\",\", \".\")\n",
    "        df['LEVERINGSRICHTING_PERC'] = df['LEVERINGSRICHTING_PERC'].str.replace(\",\", \".\")\n",
    "        df['SJV_LAAG_TARIEF_PERC'] = df['SJV_LAAG_TARIEF_PERC'].str.replace(\",\", \".\")\n",
    "        df['SLIMME_METER_PERC'] = df['SLIMME_METER_PERC'].str.replace(\",\", \".\")\n",
    "    \n",
    "    df['LEVERINGSRICHTING_PERC'] = pd.to_numeric(df['LEVERINGSRICHTING_PERC'])\n",
    "    df['FYSIEKE_STATUS_PERC'] = pd.to_numeric(df['FYSIEKE_STATUS_PERC'])\n",
    "    df['SJV_LAAG_TARIEF_PERC'] = pd.to_numeric(df['SJV_LAAG_TARIEF_PERC'])\n",
    "    df['SLIMME_METER_PERC'] = pd.to_numeric(df['SLIMME_METER_PERC'])\n",
    "    df['SJV_GEMIDDELD'] = pd.to_numeric(df['SJV_GEMIDDELD'])\n",
    "    \n",
    "    df.POSTCODE_VAN = df.POSTCODE_VAN.str.replace(\" \", \"\")\n",
    "    df.POSTCODE_TOT = df.POSTCODE_TOT.str.replace(\" \", \"\")\n",
    "    \n",
    "    df = df.rename(columns=renaming)\n",
    "    \n",
    "    del df['LANDCODE'] # always NL\n",
    "    del df['VERBRUIKSSEGMENT'] # always KVB\n",
    "    df_el = df[df.type_of_product == 'ELK'].copy()\n",
    "    df_gas = df[df.type_of_product == 'GAS'].copy()\n",
    "    del df_el['type_of_product']\n",
    "    del df_gas['type_of_product']\n",
    "    # del df_gas['smartmeter_perc'] # all null\n",
    "    print(df_el.shape)\n",
    "    print(df_gas.shape)\n",
    "    df_el.to_csv(\"cleaned_data/Electricity/enexis_\" + \"electricity_\" + yr, encoding='utf-8', index=False)\n",
    "    df_gas.to_csv(\"cleaned_data/Gas/enexis_\" + \"gas_\" + yr, encoding='utf-8', index=False)"
   ]
  },
  {
   "cell_type": "markdown",
   "metadata": {},
   "source": [
    "# Liander"
   ]
  },
  {
   "cell_type": "code",
   "execution_count": 17,
   "metadata": {},
   "outputs": [
    {
     "data": {
      "text/plain": [
       "['raw_data/Liander_kleinverbruiksgegevens_01012010.csv',\n",
       " 'raw_data/Liander_kleinverbruiksgegevens_01012015.csv',\n",
       " 'raw_data/LianderKV01012018.xlsx',\n",
       " 'raw_data/Liander_kleinverbruiksgegevens_01012017.xlsx',\n",
       " 'raw_data/Liander_kleinverbruiksgegevens_01012009.csv',\n",
       " 'raw_data/Liander_kleinverbruiksgegevens_01012012.csv',\n",
       " 'raw_data/Liander_kleinverbruiksgegevens_01012011.csv',\n",
       " 'raw_data/Liander_kleinverbruiksgegevens_01012016.csv',\n",
       " 'raw_data/Liander_kleinverbruiksgegevens_01012014.csv',\n",
       " 'raw_data/Liander_kleinverbruiksgegevens_01012013.csv']"
      ]
     },
     "execution_count": 17,
     "metadata": {},
     "output_type": "execute_result"
    }
   ],
   "source": [
    "liander = list_all_files('raw_data/', pattern='Liander')\n",
    "liander"
   ]
  },
  {
   "cell_type": "code",
   "execution_count": 18,
   "metadata": {},
   "outputs": [],
   "source": [
    "li_rename = {'%Leveringsrichting': 'LEVERINGSRICHTING_PERC',\n",
    "             'Aantal Aansluitingen': 'AANSLUITINGEN_AANTAL',\n",
    "             '%Fysieke status': 'FYSIEKE_STATUS_PERC',\n",
    "             '%Soort aansluiting':'SOORT_AANSLUITING_PERC',\n",
    "             'Soort aansluiting Naam': 'SOORT_AANSLUITING',\n",
    "             'SJV': 'SJV_GEMIDDELD',\n",
    "             '%SJV laag tarief': 'SJV_LAAG_TARIEF_PERC',\n",
    "             '%Slimme Meter' : 'SLIMME_METER_PERC'}"
   ]
  },
  {
   "cell_type": "code",
   "execution_count": 19,
   "metadata": {},
   "outputs": [
    {
     "name": "stdout",
     "output_type": "stream",
     "text": [
      "01012010.csv\n",
      "(133554, 14)\n",
      "(101398, 14)\n",
      "01012015.csv\n",
      "(136238, 14)\n",
      "(106015, 14)\n",
      "LianderKV01012018.xlsx\n",
      "Can only use .str accessor with string values, which use np.object_ dtype in pandas\n",
      "(142265, 14)\n",
      "(118199, 14)\n",
      "01012017.xlsx\n",
      "Can only use .str accessor with string values, which use np.object_ dtype in pandas\n",
      "(141484, 14)\n",
      "(117735, 14)\n",
      "01012009.csv\n",
      "(132655, 14)\n",
      "(100839, 14)\n",
      "01012012.csv\n",
      "(135181, 14)\n",
      "(104936, 14)\n",
      "01012011.csv\n",
      "(134371, 14)\n",
      "(104509, 14)\n",
      "01012016.csv\n",
      "(140639, 14)\n",
      "(117250, 14)\n",
      "01012014.csv\n",
      "Can only use .str accessor with string values, which use np.object_ dtype in pandas\n",
      "(135737, 14)\n",
      "(105671, 14)\n",
      "01012013.csv\n",
      "(136040, 14)\n",
      "(105332, 14)\n"
     ]
    }
   ],
   "source": [
    "for file in liander:\n",
    "    yr = file.split('_')[-1].split('/')[-1]\n",
    "    print(yr)\n",
    "    if file.endswith('csv'):\n",
    "        if '2010.csv' in file:\n",
    "            df = pd.read_csv(file, encoding = \"ISO-8859-1\", sep=';')\n",
    "        else:\n",
    "            df = pd.read_csv(file, encoding = \"ISO-8859-1\", sep='\\t', low_memory=False)\n",
    "    else:\n",
    "        df = pd.read_excel(file)\n",
    "        yr = yr.split('.')[0] + '.csv'\n",
    "        if 'Liander' in yr:\n",
    "            yr = yr.split('KV')[-1]\n",
    "    df = df.rename(columns=li_rename)\n",
    "    \n",
    "    try:\n",
    "        df['LEVERINGSRICHTING_PERC'] = df['LEVERINGSRICHTING_PERC'].str.replace(\",\", \".\")\n",
    "        df['FYSIEKE_STATUS_PERC'] = df['FYSIEKE_STATUS_PERC'].str.replace(\",\", \".\")\n",
    "        df['SJV_LAAG_TARIEF_PERC'] = df['SJV_LAAG_TARIEF_PERC'].str.replace(\",\", \".\")\n",
    "        df['SLIMME_METER_PERC'] = df['SLIMME_METER_PERC'].str.replace(\",\", \".\")\n",
    "        df['Gemiddeld aantal telwielen'] = df['Gemiddeld aantal telwielen'].str.replace(\",\", \".\")\n",
    "    except AttributeError as e: # some of them are already numeric\n",
    "        print(e)\n",
    "        pass\n",
    "    \n",
    "    df['LEVERINGSRICHTING_PERC'] = pd.to_numeric(df['LEVERINGSRICHTING_PERC'])\n",
    "    df['FYSIEKE_STATUS_PERC'] = pd.to_numeric(df['FYSIEKE_STATUS_PERC'])\n",
    "    df['SJV_LAAG_TARIEF_PERC'] = pd.to_numeric(df['SJV_LAAG_TARIEF_PERC'])\n",
    "    df['Gemiddeld aantal telwielen'] = pd.to_numeric(df['Gemiddeld aantal telwielen'])\n",
    "    df['SLIMME_METER_PERC'] = pd.to_numeric(df['SLIMME_METER_PERC'])\n",
    "    \n",
    "    df.POSTCODE_VAN = df.POSTCODE_VAN.str.replace(\" \", \"\")\n",
    "    df.POSTCODE_TOT = df.POSTCODE_TOT.str.replace(\" \", \"\")\n",
    "    \n",
    "    df = df.rename(columns=renaming)\n",
    "    \n",
    "    del df['%Defintieve aansl (NRM)'] # always 100\n",
    "    del df['LANDCODE'] # always NL\n",
    "    del df['VERBRUIKSSEGMENT'] # always KVB\n",
    "    del df['MEETVERANTWOORDELIJKE'] # always Liander\n",
    "    del df['Gemiddeld aantal telwielen'] # not clear\n",
    "    df_el = df[df.type_of_product == 'ELK'].copy()\n",
    "    df_gas = df[df.type_of_product == 'GAS'].copy()\n",
    "    del df_el['type_of_product']\n",
    "    del df_gas['type_of_product']\n",
    "    print(df_el.shape)\n",
    "    print(df_gas.shape)\n",
    "    df_el.to_csv(\"cleaned_data/Electricity/liander_\" + \"electricity_\" + yr, encoding='utf-8', index=False)\n",
    "    df_gas.to_csv(\"cleaned_data/Gas/liander_\" + \"gas_\" + yr, encoding='utf-8', index=False)"
   ]
  },
  {
   "cell_type": "markdown",
   "metadata": {},
   "source": [
    "# Stedin"
   ]
  },
  {
   "cell_type": "code",
   "execution_count": 20,
   "metadata": {},
   "outputs": [
    {
     "data": {
      "text/plain": [
       "['raw_data/20160119_OpenData_KV_Verbruiksdata_2013.csv',\n",
       " 'raw_data/20160114_OpenData_KV_Verbruiksdata_2011_Final.csv',\n",
       " 'raw_data/20160114_OpenData_KV_Verbruiksdata_2010_Final.csv',\n",
       " 'raw_data/20160114_OpenData_KV_Verbruiksdata_2009_Final.csv',\n",
       " 'raw_data/20180618_OpenData_KV_Verbruiksdata_2017.CSV',\n",
       " 'raw_data/20160114_OpenData_KV_Verbruiksdata_2012_Final.csv',\n",
       " 'raw_data/20160119_OpenData_KV_Verbruiksdata_2014.csv',\n",
       " 'raw_data/20180129_OpenData_KV_Verbruiksdata_2018.csv',\n",
       " 'raw_data/20160119_OpenData_KV_Verbruiksdata_2015.csv',\n",
       " 'raw_data/20160119_OpenData_KV_Verbruiksdata_2016.csv']"
      ]
     },
     "execution_count": 20,
     "metadata": {},
     "output_type": "execute_result"
    }
   ],
   "source": [
    "stedin = list_all_files('raw_data/', pattern='Open')\n",
    "stedin"
   ]
  },
  {
   "cell_type": "code",
   "execution_count": 21,
   "metadata": {},
   "outputs": [
    {
     "name": "stdout",
     "output_type": "stream",
     "text": [
      "2013.csv\n",
      "(82687, 14)\n",
      "(85083, 14)\n",
      "2011.csv\n",
      "(82549, 14)\n",
      "(84533, 14)\n",
      "2010.csv\n",
      "(82074, 14)\n",
      "(84225, 14)\n",
      "2009.csv\n",
      "(81514, 14)\n",
      "(83875, 14)\n",
      "2017.csv\n",
      "(84190, 14)\n",
      "(86221, 14)\n",
      "2012.csv\n",
      "(83000, 14)\n",
      "(84869, 14)\n",
      "2014.csv\n",
      "(83004, 14)\n",
      "(85313, 14)\n",
      "2018.csv\n",
      "(84695, 14)\n",
      "(85841, 14)\n",
      "2015.csv\n",
      "(83388, 14)\n",
      "(85573, 14)\n",
      "2016.csv\n",
      "(83791, 14)\n",
      "(85904, 14)\n"
     ]
    }
   ],
   "source": [
    "for file in stedin:\n",
    "    yr = file.split('_Verbruiksdata_')[-1]\n",
    "    if 'Final' in yr:\n",
    "            yr = yr.replace('_Final', '')\n",
    "    yr = yr.lower()\n",
    "    print(yr)\n",
    "    df = pd.read_csv(file, encoding = \"ISO-8859-1\", sep='\\t', low_memory=False)\n",
    "    \n",
    "    try:\n",
    "        df['LEVERINGSRICHTING_PERC'] = df['LEVERINGSRICHTING_PERC'].str.replace(\",\", \".\")\n",
    "        df['FYSIEKE_STATUS_PERC'] = df['FYSIEKE_STATUS_PERC'].str.replace(\",\", \".\")\n",
    "        df['SJV_LAAG_TARIEF_PERC'] = df['SJV_LAAG_TARIEF_PERC'].str.replace(\",\", \".\")\n",
    "        df['SLIMME_METER_PERC'] = df['SLIMME_METER_PERC'].str.replace(\",\", \".\")\n",
    "    except AttributeError as e: # some of them are already numeric\n",
    "        print(e)\n",
    "        pass\n",
    "    \n",
    "    df['LEVERINGSRICHTING_PERC'] = pd.to_numeric(df['LEVERINGSRICHTING_PERC'])\n",
    "    df['FYSIEKE_STATUS_PERC'] = pd.to_numeric(df['FYSIEKE_STATUS_PERC'])\n",
    "    df['SJV_LAAG_TARIEF_PERC'] = pd.to_numeric(df['SJV_LAAG_TARIEF_PERC'])\n",
    "    df['SLIMME_METER_PERC'] = pd.to_numeric(df['SLIMME_METER_PERC'])\n",
    "    \n",
    "    df.POSTCODE_VAN = df.POSTCODE_VAN.str.replace(\" \", \"\")\n",
    "    df.POSTCODE_TOT = df.POSTCODE_TOT.str.replace(\" \", \"\")\n",
    "    \n",
    "    df = df.rename(columns=renaming)\n",
    "    \n",
    "    del df['LANDCODE'] # always NL\n",
    "    del df['VERBRUIKSSEGMENT'] # always KVB\n",
    "    \n",
    "    df_el = df[df.type_of_product == 'ELK'].copy()\n",
    "    df_gas = df[df.type_of_product == 'GAS'].copy()\n",
    "    del df_el['type_of_product']\n",
    "    del df_gas['type_of_product']\n",
    "    print(df_el.shape)\n",
    "    print(df_gas.shape)\n",
    "    \n",
    "    df_el.to_csv(\"cleaned_data/Electricity/stedin_\" + \"electricity_\" + yr, encoding='utf-8', index=False)\n",
    "    df_gas.to_csv(\"cleaned_data/Gas/stedin_\" + \"gas_\" + yr, encoding='utf-8', index=False)"
   ]
  },
  {
   "cell_type": "code",
   "execution_count": null,
   "metadata": {},
   "outputs": [],
   "source": []
  }
 ],
 "metadata": {
  "kernelspec": {
   "display_name": "Python 3",
   "language": "python",
   "name": "python3"
  },
  "language_info": {
   "codemirror_mode": {
    "name": "ipython",
    "version": 3
   },
   "file_extension": ".py",
   "mimetype": "text/x-python",
   "name": "python",
   "nbconvert_exporter": "python",
   "pygments_lexer": "ipython3",
   "version": "3.6.7"
  }
 },
 "nbformat": 4,
 "nbformat_minor": 2
}
